{
 "cells": [
  {
   "cell_type": "code",
   "id": "initial_id",
   "metadata": {
    "collapsed": true,
    "ExecuteTime": {
     "end_time": "2024-10-19T14:15:22.248905Z",
     "start_time": "2024-10-19T14:15:22.246183Z"
    }
   },
   "source": [
    "# imports\n",
    "import gurobipy as gp\n",
    "from gurobipy import GRB"
   ],
   "outputs": [],
   "execution_count": 19
  },
  {
   "metadata": {
    "ExecuteTime": {
     "end_time": "2024-10-19T14:15:22.257342Z",
     "start_time": "2024-10-19T14:15:22.254747Z"
    }
   },
   "cell_type": "code",
   "source": [
    "# set parameters\n",
    "k = 3\n",
    "n = 2*k\n",
    "r = 17"
   ],
   "id": "6b0592b71e68cc1f",
   "outputs": [],
   "execution_count": 20
  },
  {
   "metadata": {
    "ExecuteTime": {
     "end_time": "2024-10-19T14:15:22.276464Z",
     "start_time": "2024-10-19T14:15:22.261464Z"
    }
   },
   "cell_type": "code",
   "source": [
    "# initialize model\n",
    "model = gp.Model('sailing')\n",
    "\n",
    "# create variables\n",
    "x = []\n",
    "for i in range(r) :\n",
    "    x.append(model.addVars(n,name=\"x_\"+str(i),vtype=GRB.BINARY))    \n",
    "y = []\n",
    "for i in range(r) :\n",
    "    y.append([])\n",
    "    for j in range(n-1) :\n",
    "        y[i].append(model.addVars(n-1-j,lb=0.0,ub=1.0,name=\"y_\"+str(i)+\"_\"+str(j),vtype=GRB.CONTINUOUS))\n",
    "z = model.addVars(2,name=\"z\",vtype=GRB.INTEGER)\n",
    "\n",
    "#set objective \n",
    "model.setObjective(z[1]-z[0], sense=GRB.MINIMIZE)\n",
    "\n",
    "# create constraints\n",
    "for i in range(r) :\n",
    "    model.addConstr(sum(x[i][j] for j in range(n)) == k)\n",
    "    for a in range(n-1) :\n",
    "        for b in range(a+1,n) :\n",
    "            model.addConstr(x[i][a]+x[i][b]-y[i][a][b-a-1] <= 1)\n",
    "            model.addConstr(x[i][a]+x[i][b]+y[i][a][b-a-1] >= 1)\n",
    "            model.addConstr(y[i][a][b-a-1]+x[i][a]-x[i][b] <= 1)\n",
    "            model.addConstr(y[i][a][b-a-1]-x[i][a]+x[i][b] <= 1)\n",
    "for a in range(n-1) :\n",
    "    for b in range(a+1,n) :\n",
    "        model.addConstr(z[1]-sum(y[i][a][b-a-1] for i in range(r)) >= 0) \n",
    "        model.addConstr(z[0]-sum(y[i][a][b-a-1] for i in range(r)) <= 0)  "
   ],
   "id": "edfefa4f31656fe3",
   "outputs": [],
   "execution_count": 21
  },
  {
   "metadata": {
    "ExecuteTime": {
     "end_time": "2024-10-19T14:20:22.303081Z",
     "start_time": "2024-10-19T14:15:22.280714Z"
    }
   },
   "cell_type": "code",
   "source": [
    "# optimize model with time limit of 300s\n",
    "model.Params.TimeLimit = 300\n",
    "model.optimize()"
   ],
   "id": "f225768035791c07",
   "outputs": [
    {
     "name": "stdout",
     "output_type": "stream",
     "text": [
      "Set parameter TimeLimit to value 300\n",
      "Gurobi Optimizer version 11.0.3 build v11.0.3rc0 (win64 - Windows 11.0 (22631.2))\n",
      "\n",
      "CPU model: AMD Ryzen 7 7800X3D 8-Core Processor, instruction set [SSE2|AVX|AVX2|AVX512]\n",
      "Thread count: 8 physical cores, 16 logical processors, using up to 16 threads\n",
      "\n",
      "Optimize a model with 1067 rows, 359 columns and 3702 nonzeros\n",
      "Model fingerprint: 0x2117c08c\n",
      "Variable types: 255 continuous, 104 integer (102 binary)\n",
      "Coefficient statistics:\n",
      "  Matrix range     [1e+00, 1e+00]\n",
      "  Objective range  [1e+00, 1e+00]\n",
      "  Bounds range     [1e+00, 1e+00]\n",
      "  RHS range        [1e+00, 3e+00]\n",
      "Found heuristic solution: objective 6.0000000\n",
      "Presolve time: 0.00s\n",
      "Presolved: 1067 rows, 359 columns, 3702 nonzeros\n",
      "Variable types: 255 continuous, 104 integer (102 binary)\n",
      "\n",
      "Root relaxation: objective 0.000000e+00, 265 iterations, 0.00 seconds (0.00 work units)\n",
      "\n",
      "    Nodes    |    Current Node    |     Objective Bounds      |     Work\n",
      " Expl Unexpl |  Obj  Depth IntInf | Incumbent    BestBd   Gap | It/Node Time\n",
      "\n",
      "     0     0    0.00000    0    6    6.00000    0.00000   100%     -    0s\n",
      "H    0     0                       2.0000000    0.00000   100%     -    0s\n",
      "     0     0    0.00000    0   21    2.00000    0.00000   100%     -    0s\n",
      "     0     0    0.00000    0   27    2.00000    0.00000   100%     -    0s\n",
      "     0     0    0.00000    0   20    2.00000    0.00000   100%     -    0s\n",
      "     0     0    0.00000    0   18    2.00000    0.00000   100%     -    0s\n",
      "     0     2    0.00000    0   10    2.00000    0.00000   100%     -    0s\n",
      "  9432  2550 infeasible   52         2.00000    0.00000   100%   100    5s\n",
      " 21975  5249 infeasible   43         2.00000    0.00000   100%   101   10s\n",
      " 44344  9940    0.00000   36   19    2.00000    0.00000   100%  95.2   17s\n",
      " 57238 13364    0.33333   34   23    2.00000    0.00000   100%  90.9   20s\n",
      " 80760 18499 infeasible   53         2.00000    0.00000   100%  85.0   25s\n",
      " 103035 24976 infeasible   49         2.00000    0.00000   100%  82.7   30s\n",
      " 125046 31575    1.00000   41   44    2.00000    0.00000   100%  79.0   35s\n",
      " 163381 37057    1.00000   55    8    2.00000    1.00000  50.0%  69.9   40s\n",
      " 225450 38380 infeasible   55         2.00000    1.00000  50.0%  56.1   45s\n",
      " 276980 38765    1.00000   65   10    2.00000    1.00000  50.0%  50.1   50s\n",
      " 327190 38627    1.00000   54    8    2.00000    1.00000  50.0%  45.8   55s\n",
      " 382419 38305    1.00000   63    8    2.00000    1.00000  50.0%  42.5   60s\n",
      " 436358 38251    1.00000   48   11    2.00000    1.00000  50.0%  40.1   65s\n",
      " 489582 38138    1.00000   60   12    2.00000    1.00000  50.0%  38.3   70s\n",
      " 552126 38278 infeasible   66         2.00000    1.00000  50.0%  36.2   75s\n",
      " 615415 38234    1.00000   57    6    2.00000    1.00000  50.0%  34.4   80s\n",
      " 683419 38131 infeasible   57         2.00000    1.00000  50.0%  32.9   85s\n",
      " 750443 38615    1.00000   61    6    2.00000    1.00000  50.0%  31.7   90s\n",
      " 819441 38864    1.00000   57    8    2.00000    1.00000  50.0%  30.6   95s\n",
      " 883749 38596    1.00000   53    6    2.00000    1.00000  50.0%  29.7  100s\n",
      " 947981 38327 infeasible   60         2.00000    1.00000  50.0%  28.9  105s\n",
      " 1011911 38700    1.00000   56    8    2.00000    1.00000  50.0%  28.3  110s\n",
      " 1073336 38523    1.00000   60    6    2.00000    1.00000  50.0%  27.8  115s\n",
      " 1137514 38234 infeasible   57         2.00000    1.00000  50.0%  27.3  120s\n",
      " 1194494 38072    1.00000   58    8    2.00000    1.00000  50.0%  26.9  125s\n",
      " 1253436 37977 infeasible   59         2.00000    1.00000  50.0%  26.6  130s\n",
      " 1318257 38210 infeasible   58         2.00000    1.00000  50.0%  26.2  135s\n",
      " 1377743 38137    1.00000   57   10    2.00000    1.00000  50.0%  25.9  140s\n",
      " 1438932 37859 infeasible   63         2.00000    1.00000  50.0%  25.7  145s\n",
      " 1489524 37877 infeasible   54         2.00000    1.00000  50.0%  25.6  150s\n",
      " 1543857 38012    1.00000   54   12    2.00000    1.00000  50.0%  25.4  155s\n",
      " 1600181 37915    1.00000   56    8    2.00000    1.00000  50.0%  25.3  160s\n",
      " 1661256 38158 infeasible   61         2.00000    1.00000  50.0%  25.0  165s\n",
      " 1718607 38341    1.00000   58    6    2.00000    1.00000  50.0%  24.8  170s\n",
      " 1777599 38195    1.00000   51   10    2.00000    1.00000  50.0%  24.6  175s\n",
      " 1836948 37837 infeasible   53         2.00000    1.00000  50.0%  24.5  180s\n",
      " 1895763 37619    1.00000   61   12    2.00000    1.00000  50.0%  24.3  185s\n",
      " 1952728 38083    1.00000   51    6    2.00000    1.00000  50.0%  24.2  190s\n",
      " 2016786 38081 infeasible   58         2.00000    1.00000  50.0%  24.0  195s\n",
      " 2069330 37568    1.00000   56   12    2.00000    1.00000  50.0%  23.9  200s\n",
      " 2123730 37743    1.00000   49    8    2.00000    1.00000  50.0%  23.8  205s\n",
      " 2180026 38064    1.00000   55   15    2.00000    1.00000  50.0%  23.7  210s\n",
      " 2235674 37876 infeasible   62         2.00000    1.00000  50.0%  23.6  215s\n",
      " 2284534 37603 infeasible   58         2.00000    1.00000  50.0%  23.6  220s\n",
      " 2340142 37521    1.00000   59   16    2.00000    1.00000  50.0%  23.5  225s\n",
      " 2396513 37782 infeasible   61         2.00000    1.00000  50.0%  23.5  230s\n",
      " 2450712 38211    1.00000   52   10    2.00000    1.00000  50.0%  23.4  235s\n",
      " 2510996 38597    1.00000   62    8    2.00000    1.00000  50.0%  23.3  240s\n",
      " 2577904 38444    1.00000   59    8    2.00000    1.00000  50.0%  23.2  245s\n",
      " 2642904 38477 infeasible   62         2.00000    1.00000  50.0%  23.1  250s\n",
      " 2709992 38070    1.00000   51   12    2.00000    1.00000  50.0%  23.0  255s\n",
      " 2778252 37854 infeasible   55         2.00000    1.00000  50.0%  22.9  260s\n",
      " 2845367 38144 infeasible   60         2.00000    1.00000  50.0%  22.8  265s\n",
      " 2902469 38130    1.00000   61   14    2.00000    1.00000  50.0%  22.8  270s\n",
      " 2964379 37864    1.00000   67   10    2.00000    1.00000  50.0%  22.7  275s\n",
      " 3023458 37794    1.00000   56    8    2.00000    1.00000  50.0%  22.6  280s\n",
      " 3077418 37659    1.00000   64    8    2.00000    1.00000  50.0%  22.5  285s\n",
      " 3136893 38015    1.00000   53   10    2.00000    1.00000  50.0%  22.5  290s\n",
      " 3195053 37890 infeasible   60         2.00000    1.00000  50.0%  22.4  295s\n",
      " 3263455 37589 infeasible   66         2.00000    1.00000  50.0%  22.3  300s\n",
      "\n",
      "Cutting planes:\n",
      "  Gomory: 3\n",
      "  MIR: 1\n",
      "  Flow cover: 6\n",
      "  RLT: 29\n",
      "\n",
      "Explored 3264991 nodes (72940228 simplex iterations) in 300.02 seconds (447.23 work units)\n",
      "Thread count was 16 (of 16 available processors)\n",
      "\n",
      "Solution count 3: 2 4 6 \n",
      "\n",
      "Time limit reached\n",
      "Best objective 2.000000000000e+00, best bound 1.000000000000e+00, gap 50.0000%\n"
     ]
    }
   ],
   "execution_count": 22
  },
  {
   "metadata": {
    "ExecuteTime": {
     "end_time": "2024-10-19T14:29:04.225073Z",
     "start_time": "2024-10-19T14:29:04.221495Z"
    }
   },
   "cell_type": "code",
   "source": "model.MIPGap",
   "id": "69469b2c3ced3bbb",
   "outputs": [
    {
     "data": {
      "text/plain": [
       "0.5"
      ]
     },
     "execution_count": 23,
     "metadata": {},
     "output_type": "execute_result"
    }
   ],
   "execution_count": 23
  },
  {
   "metadata": {},
   "cell_type": "code",
   "outputs": [],
   "execution_count": null,
   "source": "",
   "id": "261da97afe30bd21"
  }
 ],
 "metadata": {
  "kernelspec": {
   "display_name": "Python 3",
   "language": "python",
   "name": "python3"
  },
  "language_info": {
   "codemirror_mode": {
    "name": "ipython",
    "version": 2
   },
   "file_extension": ".py",
   "mimetype": "text/x-python",
   "name": "python",
   "nbconvert_exporter": "python",
   "pygments_lexer": "ipython2",
   "version": "2.7.6"
  }
 },
 "nbformat": 4,
 "nbformat_minor": 5
}
