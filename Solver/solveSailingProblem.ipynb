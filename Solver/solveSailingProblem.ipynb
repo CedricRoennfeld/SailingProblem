{
 "cells": [
  {
   "cell_type": "code",
   "id": "initial_id",
   "metadata": {
    "collapsed": true,
    "ExecuteTime": {
     "end_time": "2024-10-19T14:12:59.188577Z",
     "start_time": "2024-10-19T14:12:59.163295Z"
    }
   },
   "source": [
    "# imports\n",
    "import gurobipy as gp\n",
    "from gurobipy import GRB"
   ],
   "outputs": [],
   "execution_count": 1
  },
  {
   "metadata": {
    "ExecuteTime": {
     "end_time": "2024-10-19T14:13:05.209138Z",
     "start_time": "2024-10-19T14:13:05.206788Z"
    }
   },
   "cell_type": "code",
   "source": [
    "# set parameters\n",
    "k = 3\n",
    "n = 2*k\n",
    "r = 5"
   ],
   "id": "6b0592b71e68cc1f",
   "outputs": [],
   "execution_count": 2
  },
  {
   "metadata": {
    "ExecuteTime": {
     "end_time": "2024-10-19T14:13:29.826055Z",
     "start_time": "2024-10-19T14:13:29.816266Z"
    }
   },
   "cell_type": "code",
   "source": [
    "# initialize model\n",
    "model = gp.Model('sailing')\n",
    "\n",
    "# create variables\n",
    "x = []\n",
    "for i in range(r) :\n",
    "    x.append(model.addVars(n,name=\"x_\"+str(i),vtype=GRB.BINARY))    \n",
    "y = []\n",
    "for i in range(r) :\n",
    "    y.append([])\n",
    "    for j in range(n-1) :\n",
    "        y[i].append(model.addVars(n-1-j,lb=0.0,ub=1.0,name=\"y_\"+str(i)+\"_\"+str(j),vtype=GRB.CONTINUOUS))\n",
    "z = model.addVars(2,name=\"z\",vtype=GRB.INTEGER)\n",
    "\n",
    "#set objective \n",
    "model.setObjective(z[1]-z[0], sense=GRB.MINIMIZE)\n",
    "\n",
    "# create constraints\n",
    "for i in range(r) :\n",
    "    model.addConstr(sum(x[i][j] for j in range(n)) == k)\n",
    "    for a in range(n-1) :\n",
    "        for b in range(a+1,n) :\n",
    "            model.addConstr(x[i][a]+x[i][b]-y[i][a][b-a-1] <= 1)\n",
    "            model.addConstr(x[i][a]+x[i][b]+y[i][a][b-a-1] >= 1)\n",
    "            model.addConstr(y[i][a][b-a-1]+x[i][a]-x[i][b] <= 1)\n",
    "            model.addConstr(y[i][a][b-a-1]-x[i][a]+x[i][b] <= 1)\n",
    "for a in range(n-1) :\n",
    "    for b in range(a+1,n) :\n",
    "        model.addConstr(z[1]-sum(y[i][a][b-a-1] for i in range(r)) >= 0) \n",
    "        model.addConstr(z[0]-sum(y[i][a][b-a-1] for i in range(r)) <= 0)  "
   ],
   "id": "edfefa4f31656fe3",
   "outputs": [],
   "execution_count": 4
  },
  {
   "metadata": {
    "ExecuteTime": {
     "end_time": "2024-10-19T14:13:46.865268Z",
     "start_time": "2024-10-19T14:13:46.685774Z"
    }
   },
   "cell_type": "code",
   "source": [
    "# optimize model with time limit of 300s\n",
    "model.Params.TimeLimit = 300\n",
    "model.optimize()"
   ],
   "id": "f225768035791c07",
   "outputs": [
    {
     "name": "stdout",
     "output_type": "stream",
     "text": [
      "Set parameter TimeLimit to value 300\n",
      "Gurobi Optimizer version 11.0.3 build v11.0.3rc0 (win64 - Windows 11.0 (22631.2))\n",
      "\n",
      "CPU model: AMD Ryzen 7 7800X3D 8-Core Processor, instruction set [SSE2|AVX|AVX2|AVX512]\n",
      "Thread count: 8 physical cores, 16 logical processors, using up to 16 threads\n",
      "\n",
      "Optimize a model with 335 rows, 107 columns and 1110 nonzeros\n",
      "Model fingerprint: 0x07e4b48f\n",
      "Variable types: 75 continuous, 32 integer (30 binary)\n",
      "Coefficient statistics:\n",
      "  Matrix range     [1e+00, 1e+00]\n",
      "  Objective range  [1e+00, 1e+00]\n",
      "  Bounds range     [1e+00, 1e+00]\n",
      "  RHS range        [1e+00, 3e+00]\n",
      "Found heuristic solution: objective 2.0000000\n",
      "Presolve time: 0.00s\n",
      "Presolved: 335 rows, 107 columns, 1110 nonzeros\n",
      "Variable types: 75 continuous, 32 integer (30 binary)\n",
      "\n",
      "Root relaxation: objective 0.000000e+00, 149 iterations, 0.00 seconds (0.00 work units)\n",
      "\n",
      "    Nodes    |    Current Node    |     Objective Bounds      |     Work\n",
      " Expl Unexpl |  Obj  Depth IntInf | Incumbent    BestBd   Gap | It/Node Time\n",
      "\n",
      "     0     0    0.00000    0   14    2.00000    0.00000   100%     -    0s\n",
      "     0     0    0.00000    0   26    2.00000    0.00000   100%     -    0s\n",
      "     0     0    0.00000    0   21    2.00000    0.00000   100%     -    0s\n",
      "     0     0    0.00000    0   23    2.00000    0.00000   100%     -    0s\n",
      "     0     0    0.00000    0   20    2.00000    0.00000   100%     -    0s\n",
      "     0     0    0.00000    0   20    2.00000    0.00000   100%     -    0s\n",
      "     0     0    0.00000    0   20    2.00000    0.00000   100%     -    0s\n",
      "     0     0    0.00000    0   18    2.00000    0.00000   100%     -    0s\n",
      "     0     0    0.00000    0   18    2.00000    0.00000   100%     -    0s\n",
      "     0     0    0.00000    0   16    2.00000    0.00000   100%     -    0s\n",
      "     0     0    0.00000    0   25    2.00000    0.00000   100%     -    0s\n",
      "     0     0    0.00000    0   23    2.00000    0.00000   100%     -    0s\n",
      "     0     0    0.00000    0   19    2.00000    0.00000   100%     -    0s\n",
      "     0     0    0.00000    0   21    2.00000    0.00000   100%     -    0s\n",
      "     0     0    0.00000    0   17    2.00000    0.00000   100%     -    0s\n",
      "     0     0    0.00000    0   24    2.00000    0.00000   100%     -    0s\n",
      "     0     0    0.00000    0   16    2.00000    0.00000   100%     -    0s\n",
      "     0     0    0.00000    0   22    2.00000    0.00000   100%     -    0s\n",
      "     0     0    0.00000    0   22    2.00000    0.00000   100%     -    0s\n",
      "     0     0    0.00000    0   17    2.00000    0.00000   100%     -    0s\n",
      "     0     2    0.00000    0   16    2.00000    0.00000   100%     -    0s\n",
      "\n",
      "Cutting planes:\n",
      "  MIR: 3\n",
      "  RLT: 58\n",
      "\n",
      "Explored 100 nodes (6423 simplex iterations) in 0.17 seconds (0.16 work units)\n",
      "Thread count was 16 (of 16 available processors)\n",
      "\n",
      "Solution count 2: 2 3 \n",
      "\n",
      "Optimal solution found (tolerance 1.00e-04)\n",
      "Best objective 2.000000000000e+00, best bound 2.000000000000e+00, gap 0.0000%\n"
     ]
    }
   ],
   "execution_count": 5
  },
  {
   "metadata": {},
   "cell_type": "code",
   "outputs": [],
   "execution_count": null,
   "source": "",
   "id": "69469b2c3ced3bbb"
  }
 ],
 "metadata": {
  "kernelspec": {
   "display_name": "Python 3",
   "language": "python",
   "name": "python3"
  },
  "language_info": {
   "codemirror_mode": {
    "name": "ipython",
    "version": 2
   },
   "file_extension": ".py",
   "mimetype": "text/x-python",
   "name": "python",
   "nbconvert_exporter": "python",
   "pygments_lexer": "ipython2",
   "version": "2.7.6"
  }
 },
 "nbformat": 4,
 "nbformat_minor": 5
}
